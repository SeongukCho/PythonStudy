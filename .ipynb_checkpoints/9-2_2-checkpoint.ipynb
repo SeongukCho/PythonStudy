{
 "cells": [
  {
   "cell_type": "code",
   "execution_count": null,
   "id": "fb3b719d-c4dd-4505-a38c-464874f2ea7f",
   "metadata": {},
   "outputs": [],
   "source": [
    "import pandas as pd\n",
    "from glob import glob"
   ]
  },
  {
   "cell_type": "code",
   "execution_count": null,
   "id": "d710ccb9-563f-4dd1-b99f-e679aea8f78e",
   "metadata": {},
   "outputs": [],
   "source": [
    "stations_files = glob('C:/python/지역*.xls')\n",
    "stations_files"
   ]
  },
  {
   "cell_type": "code",
   "execution_count": null,
   "id": "27017e2f-8bca-472e-9f4f-f76f9390f3a8",
   "metadata": {},
   "outputs": [],
   "source": [
    "tmp_raw=[]\n",
    "for file_name in stations_files:\n",
    "    tmp = pd.read_excel(file_name, header=2)\n",
    "    tmp_raw.append(tmp)\n",
    "station_raw = pd.concat(tmp_raw)"
   ]
  },
  {
   "cell_type": "code",
   "execution_count": null,
   "id": "18195743-c6dd-4765-9120-6bbacfdaa4f5",
   "metadata": {},
   "outputs": [],
   "source": [
    "station_raw.info()"
   ]
  },
  {
   "cell_type": "code",
   "execution_count": null,
   "id": "d12bfea8-807b-4962-989c-71c7f610f753",
   "metadata": {},
   "outputs": [],
   "source": [
    "station_raw.head()"
   ]
  },
  {
   "cell_type": "code",
   "execution_count": null,
   "id": "ef610a21-406b-4b99-b103-3a2bc09cb4b2",
   "metadata": {},
   "outputs": [],
   "source": [
    "stations = pd.DataFrame({'Oil_store':station_raw['상호'],\n",
    "                        '주소':station_raw['주소'],\n",
    "                        '가격':station_raw['휘발유'],\n",
    "                        '셀프':station_raw['셀프여부'],\n",
    "                        '상표':station_raw['상표']})\n",
    "stations.head()"
   ]
  },
  {
   "cell_type": "code",
   "execution_count": null,
   "id": "2c151dc6-ffc6-4640-a83f-f079d45e2fed",
   "metadata": {},
   "outputs": [],
   "source": [
    "stations['구'] = [eachAddress.split()[1] for eachAddress in stations['주소']]\n",
    "stations.head()"
   ]
  },
  {
   "cell_type": "code",
   "execution_count": null,
   "id": "bda3f8f8-734e-411d-95fe-dda20e885425",
   "metadata": {},
   "outputs": [],
   "source": [
    "stations['구'].unique()"
   ]
  },
  {
   "cell_type": "code",
   "execution_count": null,
   "id": "436e540c-c96c-47e2-a7ed-d606763ac680",
   "metadata": {},
   "outputs": [],
   "source": [
    "stations[stations['구']=='서울특별시']"
   ]
  },
  {
   "cell_type": "code",
   "execution_count": null,
   "id": "c5e7a8ee-a51b-46e6-a499-cf8abb0619b3",
   "metadata": {},
   "outputs": [],
   "source": [
    "stations.loc[stations['구']=='서울특별시','구'] = '성동구'\n",
    "stations['구'].unique()"
   ]
  },
  {
   "cell_type": "code",
   "execution_count": null,
   "id": "d3e64f0c-34ea-4c13-815e-5ee389802b68",
   "metadata": {},
   "outputs": [],
   "source": [
    "stations[stations['구']=='특별시']"
   ]
  },
  {
   "cell_type": "code",
   "execution_count": null,
   "id": "c41c47fb-9f71-4702-b5d6-f9cf2568a3a8",
   "metadata": {},
   "outputs": [],
   "source": [
    "stations.loc[stations['구']=='특별시','구']='도봉구'\n",
    "stations['구'].unique()"
   ]
  },
  {
   "cell_type": "code",
   "execution_count": null,
   "id": "0e7636bd-9cf7-4cb4-9aa4-1f6babaddc2a",
   "metadata": {},
   "outputs": [],
   "source": [
    "stations[stations['가격']=='-']"
   ]
  },
  {
   "cell_type": "code",
   "execution_count": null,
   "id": "c58b20fe-6c32-48e0-baf6-a5d5112efd1f",
   "metadata": {},
   "outputs": [],
   "source": [
    "stations = stations[stations['가격'] != '-']\n",
    "stations.head()"
   ]
  },
  {
   "cell_type": "code",
   "execution_count": null,
   "id": "863f7bfe-a704-42ee-9746-649228e29855",
   "metadata": {},
   "outputs": [],
   "source": [
    "stations['가격'] = [float(value) for value in stations['가격']]"
   ]
  },
  {
   "cell_type": "code",
   "execution_count": null,
   "id": "0c4f8634-ee80-4f20-a352-f7d8780ea1f9",
   "metadata": {},
   "outputs": [],
   "source": [
    "stations.reset_index(inplace=True)\n",
    "del stations['index']"
   ]
  },
  {
   "cell_type": "code",
   "execution_count": null,
   "id": "9974266f-bb64-4d03-91a5-a8a54bd913e2",
   "metadata": {},
   "outputs": [],
   "source": [
    "stations.info()"
   ]
  },
  {
   "cell_type": "code",
   "execution_count": null,
   "id": "ab633a9a-0de5-4195-8234-81d5c843bf6a",
   "metadata": {},
   "outputs": [],
   "source": [
    "import matplotlib.pyplot as plt\n",
    "import seaborn as sns\n",
    "import platform\n",
    "from matplotlib import font_manager, rc\n",
    "plt.rcParams['axes.unicode_minus'] = False\n",
    "\n",
    "if platform.system() == 'Darwin':\n",
    "    rc('font', family='AppleGothic')\n",
    "elif platform.system() == 'Windows':\n",
    "    path = \"C:/Windows/Fonts/malgun.ttf\"\n",
    "    font_name = font_manager.FontProperties(fname=path).get_name()\n",
    "    rc('font',family=font_name)\n",
    "else:\n",
    "    print('Unkown system... sorry~~~')"
   ]
  },
  {
   "cell_type": "code",
   "execution_count": null,
   "id": "e2737510-fb34-429e-a537-14f3243f3d83",
   "metadata": {},
   "outputs": [],
   "source": [
    "stations.boxplot(column='가격',by='셀프', figsize=(12,8))\n",
    "plt.show()"
   ]
  },
  {
   "cell_type": "code",
   "execution_count": null,
   "id": "e9b74b40-8f58-415b-8b4d-ed0e81a30193",
   "metadata": {},
   "outputs": [],
   "source": [
    "plt.figure(figsize=(12,8))\n",
    "sns.boxplot(x='상표', y='가격', hue='셀프', data=stations, palette='Set3')\n",
    "plt.show()"
   ]
  },
  {
   "cell_type": "code",
   "execution_count": null,
   "id": "0a301bb1-5fb6-4258-9e8d-6a903a30e6f9",
   "metadata": {},
   "outputs": [],
   "source": [
    "import warnings\n",
    "warnings.filterwarnings(action='ignore')\n",
    "plt.figure(figsize=(12,8))\n",
    "sns.boxplot(x='상표', y='가격', hue='셀프', data=stations, palette='Set3')\n",
    "sns.swarmplot(x='상표', y='가격', data=stations, color=\".6\")\n",
    "plt.show()"
   ]
  },
  {
   "cell_type": "code",
   "execution_count": null,
   "id": "92330b7c-2d4b-40fb-b5d6-e2a57a1ba2b8",
   "metadata": {},
   "outputs": [],
   "source": [
    "stations.sort_values(by='가격', ascending=False).head(10)"
   ]
  },
  {
   "cell_type": "code",
   "execution_count": null,
   "id": "d7a358f8-a9e9-4d14-96f9-47d1846b6559",
   "metadata": {},
   "outputs": [],
   "source": [
    "stations.sort_values(by='가격', ascending=True).head(10)"
   ]
  },
  {
   "cell_type": "code",
   "execution_count": null,
   "id": "79b8957e-ff27-4e00-a296-53a2b3790ec6",
   "metadata": {},
   "outputs": [],
   "source": [
    "import numpy as np"
   ]
  },
  {
   "cell_type": "code",
   "execution_count": null,
   "id": "46ca2df3-073b-4dd7-87ea-370b9083a72d",
   "metadata": {},
   "outputs": [],
   "source": [
    "gu_data = pd.pivot_table(stations, index=['구'], values=['가격'], aggfunc=np.mean)\n",
    "gu_data.head()"
   ]
  },
  {
   "cell_type": "code",
   "execution_count": null,
   "id": "a46efb95-093a-4dfc-8fe5-2a3193cb312e",
   "metadata": {},
   "outputs": [],
   "source": []
  }
 ],
 "metadata": {
  "kernelspec": {
   "display_name": "Python 3 (ipykernel)",
   "language": "python",
   "name": "python3"
  },
  "language_info": {
   "codemirror_mode": {
    "name": "ipython",
    "version": 3
   },
   "file_extension": ".py",
   "mimetype": "text/x-python",
   "name": "python",
   "nbconvert_exporter": "python",
   "pygments_lexer": "ipython3",
   "version": "3.10.11"
  }
 },
 "nbformat": 4,
 "nbformat_minor": 5
}
